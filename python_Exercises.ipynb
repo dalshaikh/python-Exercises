{
  "nbformat": 4,
  "nbformat_minor": 0,
  "metadata": {
    "colab": {
      "name": "python Exercises.ipynb",
      "provenance": [],
      "authorship_tag": "ABX9TyMpo6B8w1QSQZ4uTtQn7I7i",
      "include_colab_link": true
    },
    "kernelspec": {
      "name": "python3",
      "display_name": "Python 3"
    },
    "language_info": {
      "name": "python"
    }
  },
  "cells": [
    {
      "cell_type": "markdown",
      "metadata": {
        "id": "view-in-github",
        "colab_type": "text"
      },
      "source": [
        "<a href=\"https://colab.research.google.com/github/dalshaikh/python-Exercises/blob/main/python_Exercises.ipynb\" target=\"_parent\"><img src=\"https://colab.research.google.com/assets/colab-badge.svg\" alt=\"Open In Colab\"/></a>"
      ]
    },
    {
      "cell_type": "code",
      "metadata": {
        "id": "Tldakblx8Nfv",
        "colab": {
          "base_uri": "https://localhost:8080/"
        },
        "outputId": "54593c53-97f9-4ca1-d9c6-8ddf555382a7"
      },
      "source": [
        " #define and print variable in different data type in python:\n",
        "name=\"doha\"\n",
        "age = 21\n",
        "major=\"cis\"\n",
        "print(name) \n",
        "print(age) "
      ],
      "execution_count": 66,
      "outputs": [
        {
          "output_type": "stream",
          "name": "stdout",
          "text": [
            "doha\n",
            "21\n"
          ]
        }
      ]
    },
    {
      "cell_type": "code",
      "metadata": {
        "colab": {
          "base_uri": "https://localhost:8080/"
        },
        "id": "1a7goR2XQttK",
        "outputId": "ad06bbaf-b215-402b-d45f-89c66356d14d"
      },
      "source": [
        "# different operation with STRING data type\n",
        "print (type(major))\n",
        "print(\"**********************************\")\n",
        "str=\"doha\"\n",
        "print(\"the name is :\"+str)\n",
        "print(str[0])\n",
        "print(len(str))\n",
        "print(str+\" isam\")\n",
        "print(str[1:3])\n",
        "print(\"**********************************\")"
      ],
      "execution_count": 65,
      "outputs": [
        {
          "output_type": "stream",
          "name": "stdout",
          "text": [
            "<class 'str'>\n",
            "**********************************\n",
            "the name is :doha\n",
            "d\n",
            "4\n",
            "doha isam\n",
            "oh\n",
            "**********************************\n"
          ]
        }
      ]
    },
    {
      "cell_type": "code",
      "metadata": {
        "colab": {
          "base_uri": "https://localhost:8080/"
        },
        "id": "JoYgZDRXP0XH",
        "outputId": "3f5339d2-0774-4be9-e3f1-52b2ca219773"
      },
      "source": [
        "# list in python:\n",
        "my_list =[\"doha\" , 21 ,\"cis\"]\n",
        "print (my_list)\n",
        "print (my_list[0]) # first index\n",
        "print (my_list[-1]) #last index\n",
        "print(my_list[0:2]) # print element 1 and element 2 only."
      ],
      "execution_count": 64,
      "outputs": [
        {
          "output_type": "stream",
          "name": "stdout",
          "text": [
            "['doha', 21, 'cis']\n",
            "doha\n",
            "cis\n",
            "['doha', 21]\n"
          ]
        }
      ]
    },
    {
      "cell_type": "code",
      "metadata": {
        "colab": {
          "base_uri": "https://localhost:8080/"
        },
        "id": "ng1ZvAmnDx49",
        "outputId": "478cef63-305f-41db-bb1c-f171bce8dfaa"
      },
      "source": [
        "#replace letter\n",
        "name ='Python'\n",
        "print(name)\n",
        "print(name.replace(name[0],'S'))\n"
      ],
      "execution_count": 63,
      "outputs": [
        {
          "output_type": "stream",
          "name": "stdout",
          "text": [
            "Python\n",
            "Sython\n"
          ]
        }
      ]
    },
    {
      "cell_type": "code",
      "metadata": {
        "colab": {
          "base_uri": "https://localhost:8080/"
        },
        "id": "60VKMO6dTAsl",
        "outputId": "fea21b72-251e-48b8-d429-3de6ac9cea43"
      },
      "source": [
        "# mathmatical operation in python\n",
        "x = 2\n",
        "y = 4\n",
        "z = 2.2\n",
        "#  desimal output:\n",
        "print(y / x)\n",
        "# integer output:\n",
        "print(y // x) \n",
        "# multiply:\n",
        "print(y * x)\n",
        "# summation \n",
        "print(y + x) "
      ],
      "execution_count": 62,
      "outputs": [
        {
          "output_type": "stream",
          "name": "stdout",
          "text": [
            "2.0\n",
            "2\n",
            "8\n",
            "6\n"
          ]
        }
      ]
    },
    {
      "cell_type": "code",
      "metadata": {
        "colab": {
          "base_uri": "https://localhost:8080/"
        },
        "id": "qlyvISU9UZrz",
        "outputId": "37fd054b-d56e-4fea-eda3-b9dc61feddb3"
      },
      "source": [
        "# Logical operation (AND): \n",
        "print(True and False)  # False\n",
        "print(True and True)  # True\n",
        "print(False and False)  # False\n",
        "print(False and True)  # false"
      ],
      "execution_count": 61,
      "outputs": [
        {
          "output_type": "stream",
          "name": "stdout",
          "text": [
            "False\n",
            "True\n",
            "False\n",
            "False\n"
          ]
        }
      ]
    },
    {
      "cell_type": "code",
      "metadata": {
        "colab": {
          "base_uri": "https://localhost:8080/"
        },
        "id": "UzCv5EbfUsb4",
        "outputId": "0ae260ac-7485-4833-937d-2fa3c6eaabf5"
      },
      "source": [
        "# Logical operation (OR): \n",
        "print(True or False)  # True\n",
        "print(True or True)  # True\n",
        "print(False or False)  # False\n",
        "print(False or True)  # True"
      ],
      "execution_count": 60,
      "outputs": [
        {
          "output_type": "stream",
          "name": "stdout",
          "text": [
            "True\n",
            "True\n",
            "False\n",
            "True\n"
          ]
        }
      ]
    },
    {
      "cell_type": "code",
      "metadata": {
        "colab": {
          "base_uri": "https://localhost:8080/"
        },
        "id": "3FMSbKJiU4kz",
        "outputId": "839c0800-4dc8-4b01-84a6-f44f13231988"
      },
      "source": [
        "# Logical operation (NOT): \n",
        "print(not True )  # False\n",
        "print(not False )  # True"
      ],
      "execution_count": 59,
      "outputs": [
        {
          "output_type": "stream",
          "name": "stdout",
          "text": [
            "False\n",
            "True\n"
          ]
        }
      ]
    },
    {
      "cell_type": "code",
      "metadata": {
        "colab": {
          "base_uri": "https://localhost:8080/"
        },
        "id": "XL8dX2pIVD9U",
        "outputId": "e2dbf760-5181-445b-dcbf-a57fc4795867"
      },
      "source": [
        "# use logical operation in IF ** ELSE statement:\n",
        "a = 2\n",
        "b = 4\n",
        "# Logical and\n",
        "if a > 0 and b > 0:\n",
        "    # both conditions are true\n",
        "    print(a * b)\n",
        "else:\n",
        "    print(\"Do nothing\")"
      ],
      "execution_count": 58,
      "outputs": [
        {
          "output_type": "stream",
          "name": "stdout",
          "text": [
            "8\n"
          ]
        }
      ]
    },
    {
      "cell_type": "code",
      "metadata": {
        "colab": {
          "base_uri": "https://localhost:8080/"
        },
        "id": "Td2SZob3Vjul",
        "outputId": "433bf1b7-4da0-487d-e80d-fb2cb098b2a8"
      },
      "source": [
        "# IS in python:\n",
        "x = 10\n",
        "y = 11 \n",
        "z = 10\n",
        "print(x is y) # it compare memory address of x and y \n",
        "print(x is z) # it compare memory address of x and z"
      ],
      "execution_count": 50,
      "outputs": [
        {
          "output_type": "stream",
          "name": "stdout",
          "text": [
            "False\n",
            "True\n"
          ]
        }
      ]
    },
    {
      "cell_type": "code",
      "metadata": {
        "colab": {
          "base_uri": "https://localhost:8080/"
        },
        "id": "Nic-1YVxV5wd",
        "outputId": "0490c658-a620-44dc-f72e-d2cc6bbe44dc"
      },
      "source": [
        "\n",
        "# define dictionary(key:value) in python \n",
        "my_dict = {1: \"Smith\", 2: \"Emma\", 3: \"Jessa\"}\n",
        "# display dictionary\n",
        "print(my_dict)  # {1: 'Smith', 2: 'Emma', 3: 'Jessa'}\n",
        "print(type(my_dict))  # class 'dict'\n",
        "\n",
        "# access value using a key name\n",
        "print(my_dict[1])  # Smith\n",
        "\n",
        "# change the value of a key\n",
        "my_dict[1] = \"Kelly\"\n",
        "print(my_dict[1])  # Kelly"
      ],
      "execution_count": 49,
      "outputs": [
        {
          "output_type": "stream",
          "name": "stdout",
          "text": [
            "{1: 'Smith', 2: 'Emma', 3: 'Jessa'}\n",
            "<class 'dict'>\n",
            "Smith\n",
            "Kelly\n"
          ]
        }
      ]
    },
    {
      "cell_type": "code",
      "metadata": {
        "colab": {
          "base_uri": "https://localhost:8080/"
        },
        "id": "_RyNoAmmWtF8",
        "outputId": "5c8e5f8a-ae28-4f66-8dbb-65a8d0068fc5"
      },
      "source": [
        "#define RANGE in python:\n",
        "numbers = range(10, 15)\n",
        "print(type(numbers))  # class 'range'"
      ],
      "execution_count": 57,
      "outputs": [
        {
          "output_type": "stream",
          "name": "stdout",
          "text": [
            "<class 'range'>\n"
          ]
        }
      ]
    },
    {
      "cell_type": "code",
      "metadata": {
        "colab": {
          "base_uri": "https://localhost:8080/"
        },
        "id": "zzqJ0NFtW1pf",
        "outputId": "35f64d56-b3e6-4889-f78d-d4e7d22756c9"
      },
      "source": [
        "# iterate range using for loop:\n",
        "for i in range(10, 15):\n",
        "    print(i, end=\" \")\n",
        "# Output 10 11 12 13 14"
      ],
      "execution_count": 56,
      "outputs": [
        {
          "output_type": "stream",
          "name": "stdout",
          "text": [
            "10 11 12 13 14 "
          ]
        }
      ]
    },
    {
      "cell_type": "code",
      "metadata": {
        "colab": {
          "base_uri": "https://localhost:8080/"
        },
        "id": "NM8tpdjeXIhe",
        "outputId": "c00518af-c176-4b53-d212-937d551a6a55"
      },
      "source": [
        "# converting float to integer:\n",
        "pi=3.14\n",
        "print(type(pi))\n",
        "num = int(pi)\n",
        "print(\"Integer number:\", num)\n",
        "# Output  3\n",
        "print(type(num))\n",
        "# # Output class 'int'"
      ],
      "execution_count": 55,
      "outputs": [
        {
          "output_type": "stream",
          "name": "stdout",
          "text": [
            "<class 'float'>\n",
            "Integer number: 3\n",
            "<class 'int'>\n"
          ]
        }
      ]
    },
    {
      "cell_type": "code",
      "metadata": {
        "colab": {
          "base_uri": "https://localhost:8080/"
        },
        "id": "7oBzs6cTXopz",
        "outputId": "a8ab384a-a870-4fc6-fdbf-cf0bcd530334"
      },
      "source": [
        "# input statement:\n",
        "password= input (\" enter your password  \")\n",
        "if password ==\"1234\":\n",
        "  print (\"correct password\")\n",
        "else:\n",
        "  print(\"incorrect password\")  "
      ],
      "execution_count": 54,
      "outputs": [
        {
          "output_type": "stream",
          "name": "stdout",
          "text": [
            " enter your password  2346\n",
            "incorrect password\n"
          ]
        }
      ]
    },
    {
      "cell_type": "code",
      "metadata": {
        "colab": {
          "base_uri": "https://localhost:8080/"
        },
        "id": "TW94K0nwYM9U",
        "outputId": "83c15053-2dd2-465b-d88f-d3f5d33e7209"
      },
      "source": [
        "# define FUNCTION\n",
        "def test(num1):\n",
        "  if num1==1:\n",
        "    print(\"admin\")\n",
        "  elif num1==2:\n",
        "    print(\"editor\") \n",
        "  elif num1==3:\n",
        "    print(\"guest\")  \n",
        "  else: \n",
        "    print(\"wrong entry\") \n",
        "\n",
        "test(1)\n",
        "test(2)\n",
        "test(3)\n",
        "test(4)"
      ],
      "execution_count": 53,
      "outputs": [
        {
          "output_type": "stream",
          "name": "stdout",
          "text": [
            "admin\n",
            "editor\n",
            "guest\n",
            "wrong entry\n"
          ]
        }
      ]
    },
    {
      "cell_type": "code",
      "metadata": {
        "colab": {
          "base_uri": "https://localhost:8080/"
        },
        "id": "nS9TuGMSYao_",
        "outputId": "8c4126a0-007e-4bb5-b534-5dd69cc9a781"
      },
      "source": [
        "# infinit LOOP\n",
        "x = 1\n",
        "while x <= 5: \n",
        "  print(x)\n",
        "#  to solve infinit loop(incremental statement)\n",
        "  x = x+1"
      ],
      "execution_count": 52,
      "outputs": [
        {
          "output_type": "stream",
          "name": "stdout",
          "text": [
            "1\n",
            "2\n",
            "3\n",
            "4\n",
            "5\n"
          ]
        }
      ]
    },
    {
      "cell_type": "code",
      "metadata": {
        "colab": {
          "base_uri": "https://localhost:8080/"
        },
        "id": "7bh19GfVYjA3",
        "outputId": "5db275c5-8ed6-468b-8e6a-358ddbbed14d"
      },
      "source": [
        "months = ['January', 'June', 'March', 'April']\n",
        "for mon in months:\n",
        "    pass \n",
        "print(months)\n",
        "name, age, marks = input(\"Enter your Name, Age, Percentage separated by space \").split()\n",
        "print(\"\\n\")\n",
        "print(\"User Details: \", name, age, marks)"
      ],
      "execution_count": 51,
      "outputs": [
        {
          "output_type": "stream",
          "name": "stdout",
          "text": [
            "['January', 'June', 'March', 'April']\n",
            "Enter your Name, Age, Percentage separated by space doha 54 22\n",
            "\n",
            "\n",
            "User Details:  doha 54 22\n"
          ]
        }
      ]
    }
  ]
}